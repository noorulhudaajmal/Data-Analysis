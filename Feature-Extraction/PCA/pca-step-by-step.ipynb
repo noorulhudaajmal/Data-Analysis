{
 "cells": [
  {
   "cell_type": "code",
   "execution_count": 1,
   "id": "e4da9b50",
   "metadata": {},
   "outputs": [],
   "source": [
    "import numpy as np\n",
    "import pandas as pd\n",
    "import matplotlib.pyplot as plt\n",
    "import math\n",
    "import random\n",
    "from sklearn.decomposition import PCA\n",
    "\n",
    "%matplotlib inline"
   ]
  },
  {
   "cell_type": "markdown",
   "id": "7cd9e024",
   "metadata": {},
   "source": [
    "Let's start with a simple dataset, say we have student's marks dataset recorded for six individual students of their marks in Physics and Maths."
   ]
  },
  {
   "cell_type": "code",
   "execution_count": 2,
   "id": "ccd9151e",
   "metadata": {},
   "outputs": [
    {
     "data": {
      "text/html": [
       "<div>\n",
       "<style scoped>\n",
       "    .dataframe tbody tr th:only-of-type {\n",
       "        vertical-align: middle;\n",
       "    }\n",
       "\n",
       "    .dataframe tbody tr th {\n",
       "        vertical-align: top;\n",
       "    }\n",
       "\n",
       "    .dataframe thead th {\n",
       "        text-align: right;\n",
       "    }\n",
       "</style>\n",
       "<table border=\"1\" class=\"dataframe\">\n",
       "  <thead>\n",
       "    <tr style=\"text-align: right;\">\n",
       "      <th></th>\n",
       "      <th>Student1</th>\n",
       "      <th>Student2</th>\n",
       "      <th>Student3</th>\n",
       "      <th>Student4</th>\n",
       "      <th>Student5</th>\n",
       "      <th>Student6</th>\n",
       "    </tr>\n",
       "  </thead>\n",
       "  <tbody>\n",
       "    <tr>\n",
       "      <th>Maths</th>\n",
       "      <td>10.0</td>\n",
       "      <td>11.0</td>\n",
       "      <td>8.0</td>\n",
       "      <td>3.0</td>\n",
       "      <td>1.0</td>\n",
       "      <td>2.0</td>\n",
       "    </tr>\n",
       "    <tr>\n",
       "      <th>Physics</th>\n",
       "      <td>6.0</td>\n",
       "      <td>4.0</td>\n",
       "      <td>5.0</td>\n",
       "      <td>3.0</td>\n",
       "      <td>3.2</td>\n",
       "      <td>1.0</td>\n",
       "    </tr>\n",
       "  </tbody>\n",
       "</table>\n",
       "</div>"
      ],
      "text/plain": [
       "         Student1  Student2  Student3  Student4  Student5  Student6\n",
       "Maths        10.0      11.0       8.0       3.0       1.0       2.0\n",
       "Physics       6.0       4.0       5.0       3.0       3.2       1.0"
      ]
     },
     "execution_count": 2,
     "metadata": {},
     "output_type": "execute_result"
    }
   ],
   "source": [
    "data = pd.DataFrame({\"Maths\":[10, 11, 8, 3, 1, 2], \"Physics\":[6, 4, 5, 3, 3.2, 1]}).T\n",
    "data.columns = ['Student1', 'Student2', 'Student3', 'Student4', 'Student5', 'Student6']\n",
    "data.head()"
   ]
  },
  {
   "cell_type": "markdown",
   "id": "0f9da76c",
   "metadata": {},
   "source": [
    "If we only recorded marks for Maths, we can plot it on number line."
   ]
  },
  {
   "cell_type": "code",
   "execution_count": 3,
   "id": "19060213",
   "metadata": {},
   "outputs": [
    {
     "data": {
      "image/png": "[encoded data removed]",
      "text/plain": [
       "<Figure size 432x288 with 1 Axes>"
      ]
     },
     "metadata": {
      "needs_background": "light"
     },
     "output_type": "display_data"
    }
   ],
   "source": [
    "x = data.loc['Maths'].values\n",
    "y = [0,0,0,0,0,0]\n",
    "cols = data.columns\n",
    "plt.scatter(x, y)\n",
    "for i in range(x.shape[0]):\n",
    "    plt.annotate(cols[i][-1], (x[i], y[i]+0.01), fontsize=14)\n",
    "plt.axis('off')\n",
    "plt.show()"
   ]
  },
  {
   "cell_type": "markdown",
   "id": "37d7ed8c",
   "metadata": {},
   "source": [
    "This shows that Student 1,2,3 have relatively high Math scores while Student 4,5,6 have relatively low values.\n",
    "This simple graph is capable of explaining that Student 1,2 and 3 scored closer to one another than the Students 4,5 and 6.\n",
    "\n",
    "Now if we recorded scores for two subjects namely 'Maths' and 'Physics', then we can plot it in 2-D graphs."
   ]
  },
  {
   "cell_type": "code",
   "execution_count": 4,
   "id": "a4bc83f9",
   "metadata": {},
   "outputs": [
    {
     "data": {
      "image/png": "[encoded data removed]",
      "text/plain": [
       "<Figure size 432x288 with 1 Axes>"
      ]
     },
     "metadata": {
      "needs_background": "light"
     },
     "output_type": "display_data"
    }
   ],
   "source": [
    "x = data.loc['Maths'].values\n",
    "y = data.loc['Physics'].values\n",
    "cols = data.columns\n",
    "plt.scatter(x, y)\n",
    "for i in range(x.shape[0]):\n",
    "    plt.annotate(cols[i][-1], (x[i], y[i]+0.01), fontsize=14)\n",
    "    \n",
    "plt.xlabel(\"Maths\")\n",
    "plt.ylabel(\"Physics\")\n",
    "plt.show()"
   ]
  },
  {
   "cell_type": "markdown",
   "id": "a7079031",
   "metadata": {},
   "source": [
    "`Maths` is on x-axis and spans one of the 2 dimensions on the graph, while `Physics` is on y-axis and spans the other dimension of the 2-D graph.\n",
    "\n",
    "We can see that the Students 1, 2 and 3 cluster on the right side while Students 4,5,6 on the lower left side of the graph."
   ]
  },
  {
   "cell_type": "markdown",
   "id": "90dfffd5",
   "metadata": {},
   "source": [
    "Now suppose we add marks for another subject, then we would plot the data on 3D graph."
   ]
  },
  {
   "cell_type": "code",
   "execution_count": 5,
   "id": "b6c63495",
   "metadata": {},
   "outputs": [
    {
     "data": {
      "text/html": [
       "<div>\n",
       "<style scoped>\n",
       "    .dataframe tbody tr th:only-of-type {\n",
       "        vertical-align: middle;\n",
       "    }\n",
       "\n",
       "    .dataframe tbody tr th {\n",
       "        vertical-align: top;\n",
       "    }\n",
       "\n",
       "    .dataframe thead th {\n",
       "        text-align: right;\n",
       "    }\n",
       "</style>\n",
       "<table border=\"1\" class=\"dataframe\">\n",
       "  <thead>\n",
       "    <tr style=\"text-align: right;\">\n",
       "      <th></th>\n",
       "      <th>Student1</th>\n",
       "      <th>Student2</th>\n",
       "      <th>Student3</th>\n",
       "      <th>Student4</th>\n",
       "      <th>Student5</th>\n",
       "      <th>Student6</th>\n",
       "    </tr>\n",
       "  </thead>\n",
       "  <tbody>\n",
       "    <tr>\n",
       "      <th>Maths</th>\n",
       "      <td>10.0</td>\n",
       "      <td>11.0</td>\n",
       "      <td>8.0</td>\n",
       "      <td>3.0</td>\n",
       "      <td>1.0</td>\n",
       "      <td>2.0</td>\n",
       "    </tr>\n",
       "    <tr>\n",
       "      <th>Physics</th>\n",
       "      <td>6.0</td>\n",
       "      <td>4.0</td>\n",
       "      <td>5.0</td>\n",
       "      <td>3.0</td>\n",
       "      <td>3.2</td>\n",
       "      <td>1.0</td>\n",
       "    </tr>\n",
       "    <tr>\n",
       "      <th>Statistics</th>\n",
       "      <td>12.0</td>\n",
       "      <td>9.0</td>\n",
       "      <td>10.0</td>\n",
       "      <td>2.5</td>\n",
       "      <td>1.3</td>\n",
       "      <td>2.0</td>\n",
       "    </tr>\n",
       "  </tbody>\n",
       "</table>\n",
       "</div>"
      ],
      "text/plain": [
       "            Student1  Student2  Student3  Student4  Student5  Student6\n",
       "Maths           10.0      11.0       8.0       3.0       1.0       2.0\n",
       "Physics          6.0       4.0       5.0       3.0       3.2       1.0\n",
       "Statistics      12.0       9.0      10.0       2.5       1.3       2.0"
      ]
     },
     "execution_count": 5,
     "metadata": {},
     "output_type": "execute_result"
    }
   ],
   "source": [
    "data.loc['Statistics'] = [12,9,10,2.5,1.3,2]\n",
    "data.head()"
   ]
  },
  {
   "cell_type": "code",
   "execution_count": 6,
   "id": "30cde780",
   "metadata": {},
   "outputs": [
    {
     "data": {
      "image/png": "[encoded data removed]",
      "text/plain": [
       "<Figure size 432x288 with 1 Axes>"
      ]
     },
     "metadata": {
      "needs_background": "light"
     },
     "output_type": "display_data"
    }
   ],
   "source": [
    "fig = plt.figure()\n",
    "ax = plt.axes(projection ='3d')\n",
    " \n",
    "x = data.loc['Maths'].values\n",
    "y = data.loc['Physics'].values\n",
    "z = data.loc['Statistics'].values\n",
    " \n",
    "ax.scatter3D(x, y, z, c=z)\n",
    "plt.show()"
   ]
  },
  {
   "cell_type": "markdown",
   "id": "31090cf2",
   "metadata": {},
   "source": [
    "Here the purplish dots corresponds to low values in `Statistics` and are closer to each other while thre `Yellowish-green` dots have comparatively high values of `Statistics` and the clustered together.\n",
    "\n",
    "Now if we measure students's scores for one more subject, then it requires plotting in 4D, which is no longer supported.\n",
    "\n",
    "Here, comes the PCA. \n",
    "\n",
    "PCA takes higher dimensional data and returns by transforming it into lower dimensions without losing much of the information. In lower dimensions, it will cluster similiar samples together and also tells that which variable is the most valuable for clustering the data. It also tells how accurate the lower dimension data is by providing ratio of variance along each component(features/variable of reduced dimension data)."
   ]
  },
  {
   "cell_type": "markdown",
   "id": "73a423ed",
   "metadata": {},
   "source": [
    "# Understanding the working of PCA\n",
    "\n",
    "To understand how it works, let's take the example of data with two variables; Students' scores recorded in 2 subjects."
   ]
  },
  {
   "cell_type": "code",
   "execution_count": 7,
   "id": "ec1bc954",
   "metadata": {},
   "outputs": [],
   "source": [
    "data.drop('Statistics', axis=0, inplace=True)"
   ]
  },
  {
   "cell_type": "markdown",
   "id": "1109cfc1",
   "metadata": {},
   "source": [
    "Let's start by plotting the data"
   ]
  },
  {
   "cell_type": "code",
   "execution_count": 8,
   "id": "a29aa9ac",
   "metadata": {},
   "outputs": [
    {
     "data": {
      "image/png": "[encoded data removed]",
      "text/plain": [
       "<Figure size 432x288 with 1 Axes>"
      ]
     },
     "metadata": {
      "needs_background": "light"
     },
     "output_type": "display_data"
    }
   ],
   "source": [
    "x = data.loc['Maths'].values\n",
    "y = data.loc['Physics'].values\n",
    "\n",
    "plt.scatter(x, y)    \n",
    "plt.xlabel(\"Maths\")\n",
    "plt.ylabel(\"Physics\")\n",
    "plt.show()"
   ]
  },
  {
   "cell_type": "markdown",
   "id": "eb953849",
   "metadata": {},
   "source": [
    "Then we will calculate the average measurement for Maths and for Physics."
   ]
  },
  {
   "cell_type": "code",
   "execution_count": 9,
   "id": "09c35876",
   "metadata": {},
   "outputs": [
    {
     "data": {
      "image/png": "[encoded data removed]",
      "text/plain": [
       "<Figure size 432x288 with 1 Axes>"
      ]
     },
     "metadata": {
      "needs_background": "light"
     },
     "output_type": "display_data"
    }
   ],
   "source": [
    "x = data.loc['Maths'].values\n",
    "y = data.loc['Physics'].values\n",
    "\n",
    "plt.scatter(x, y)\n",
    "\n",
    "plt.annotate(\"x\", (x.mean(), 0), color=\"red\", fontsize=14)\n",
    "plt.annotate(\"x\", (0,y.mean()), color=\"red\", fontsize=14)\n",
    "plt.xlabel(\"Maths\")\n",
    "plt.ylabel(\"Physics\")\n",
    "plt.xlim(0,12)\n",
    "plt.ylim(0,8)\n",
    "plt.show()"
   ]
  },
  {
   "cell_type": "markdown",
   "id": "6f586a66",
   "metadata": {},
   "source": [
    "With these average values, we can calculate the center of the data."
   ]
  },
  {
   "cell_type": "code",
   "execution_count": 10,
   "id": "a9f10740",
   "metadata": {},
   "outputs": [
    {
     "data": {
      "image/png": "[encoded data removed]",
      "text/plain": [
       "<Figure size 432x288 with 1 Axes>"
      ]
     },
     "metadata": {
      "needs_background": "light"
     },
     "output_type": "display_data"
    }
   ],
   "source": [
    "x = data.loc['Maths'].values\n",
    "y = data.loc['Physics'].values\n",
    "\n",
    "plt.scatter(x, y)\n",
    "\n",
    "plt.annotate(\"x\", (x.mean(), 0), color=\"red\", fontsize=14)\n",
    "plt.annotate(\"x\", (0,y.mean()), color=\"red\", fontsize=14)\n",
    "plt.annotate(\"x\", (x.mean(),y.mean()), color=\"green\", fontsize=14)\n",
    "\n",
    "plt.xlabel(\"Maths\")\n",
    "plt.ylabel(\"Physics\")\n",
    "plt.xlim(0,12)\n",
    "plt.ylim(0,8)\n",
    "plt.show()"
   ]
  },
  {
   "cell_type": "markdown",
   "id": "06199a2b",
   "metadata": {},
   "source": [
    "Now, we will shoft the data so that the center is on the top of the origin in the graph.\n",
    "\n",
    "This can be done by `Removing mean` as in the step below.\n",
    "- Note that shifting the data won't disturb the relative positioning of the sample points in the data."
   ]
  },
  {
   "cell_type": "code",
   "execution_count": 11,
   "id": "cf3905ae",
   "metadata": {},
   "outputs": [],
   "source": [
    "x = data.loc['Maths'].values\n",
    "y = data.loc['Physics'].values\n",
    "\n",
    "# Removing mean\n",
    "x = x - np.mean(x)\n",
    "y = y - np.mean(y)"
   ]
  },
  {
   "cell_type": "code",
   "execution_count": 12,
   "id": "b6c8e9ed",
   "metadata": {},
   "outputs": [
    {
     "data": {
      "image/png": "[encoded data removed]",
      "text/plain": [
       "<Figure size 432x288 with 1 Axes>"
      ]
     },
     "metadata": {
      "needs_background": "light"
     },
     "output_type": "display_data"
    }
   ],
   "source": [
    "plt.scatter(x, y)\n",
    "plt.axhline(y=0, linestyle='dashed', color='red')\n",
    "plt.annotate(\"o\", (x.mean(),y.mean()), color=\"green\", fontsize=20)\n",
    "plt.xlabel(\"Maths\")\n",
    "plt.ylabel(\"Physics\")\n",
    "plt.show()"
   ]
  },
  {
   "cell_type": "markdown",
   "id": "40a9d023",
   "metadata": {},
   "source": [
    "Now the data is centered on the origin, we will try to fit a line to it.\n",
    "\n",
    "First we start by fitting a random line to data given that it passess through the origin, and finds the best fitting line.\n",
    "\n",
    "To quantify, how good the line fits, PCA projects the data points on the line and then it does either one of them:\n",
    "\n",
    "1. Measure the distance from the data to the line and try to find the line that minimizes those distances.\n",
    "2. Try to find the line that maximizes the distance from the projected points to the origin.\n",
    "\n",
    "Minimizing the perpendicular distance from the point to the fitted line will maximizes the distance from the projected points to the origin.\n",
    "\n",
    "But it is actually easier to calculate the distance from the projected point to the origin, so PCA finds the best line by *maximizing the squared distances from the projected points to the origin.*\n",
    "\n",
    "Hence we can conclude that PCA starts with fitting a random line passing through origin,\n",
    "\n",
    "1. projects the data onto it.\n",
    "2. measures the distance from each projected point to the origin, say d1, d2, d3 and so on for every sample point in the data.\n",
    "3. Squares all of the measured distances, d1^2, d2^2, d3^3...(doing so the effect of negative values won't cancel out by positive values).\n",
    "4. Calculating thhe sum of squared  distances by adding all of the squared distances from previous step.\n",
    "            \n",
    "            SS(distances) = sum(d1^2, d2^2,....)\n",
    "5. Repeat the steps 1-4 by rotating the line until it ends up with the largest SS(distances) between the projected points and the origin.\n",
    "\n",
    "After getting 1st principal component, repeat the steps agains for 2nd principal component, given that it is perpendicular to the 1st component.\n",
    "\n",
    "We will find this using the function provided by sklearn decomposition module."
   ]
  },
  {
   "cell_type": "code",
   "execution_count": 13,
   "id": "3a7a7414",
   "metadata": {},
   "outputs": [],
   "source": [
    "pca = PCA(n_components=2)\n",
    "pca_data = pca.fit_transform(data)"
   ]
  },
  {
   "cell_type": "code",
   "execution_count": 14,
   "id": "6e77a28b",
   "metadata": {},
   "outputs": [
    {
     "data": {
      "text/html": [
       "<div>\n",
       "<style scoped>\n",
       "    .dataframe tbody tr th:only-of-type {\n",
       "        vertical-align: middle;\n",
       "    }\n",
       "\n",
       "    .dataframe tbody tr th {\n",
       "        vertical-align: top;\n",
       "    }\n",
       "\n",
       "    .dataframe thead th {\n",
       "        text-align: right;\n",
       "    }\n",
       "</style>\n",
       "<table border=\"1\" class=\"dataframe\">\n",
       "  <thead>\n",
       "    <tr style=\"text-align: right;\">\n",
       "      <th></th>\n",
       "      <th>Student1</th>\n",
       "      <th>Student2</th>\n",
       "      <th>Student3</th>\n",
       "      <th>Student4</th>\n",
       "      <th>Student5</th>\n",
       "      <th>Student6</th>\n",
       "    </tr>\n",
       "  </thead>\n",
       "  <tbody>\n",
       "    <tr>\n",
       "      <th>PC1</th>\n",
       "      <td>0.447661</td>\n",
       "      <td>0.783408</td>\n",
       "      <td>0.335746</td>\n",
       "      <td>-0.0</td>\n",
       "      <td>-0.246214</td>\n",
       "      <td>0.111915</td>\n",
       "    </tr>\n",
       "    <tr>\n",
       "      <th>PC2</th>\n",
       "      <td>0.411508</td>\n",
       "      <td>0.222689</td>\n",
       "      <td>-0.611669</td>\n",
       "      <td>0.0</td>\n",
       "      <td>0.637119</td>\n",
       "      <td>0.031813</td>\n",
       "    </tr>\n",
       "  </tbody>\n",
       "</table>\n",
       "</div>"
      ],
      "text/plain": [
       "     Student1  Student2  Student3  Student4  Student5  Student6\n",
       "PC1  0.447661  0.783408  0.335746      -0.0 -0.246214  0.111915\n",
       "PC2  0.411508  0.222689 -0.611669       0.0  0.637119  0.031813"
      ]
     },
     "execution_count": 14,
     "metadata": {},
     "output_type": "execute_result"
    }
   ],
   "source": [
    "rotated_data = pd.DataFrame(pca.components_, columns=data.columns, index=['PC1','PC2'])\n",
    "rotated_data"
   ]
  },
  {
   "cell_type": "code",
   "execution_count": 15,
   "id": "d78a02e7",
   "metadata": {},
   "outputs": [
    {
     "data": {
      "text/plain": [
       "array([[ 4.46766158e+00,  1.57009246e-16],\n",
       "       [-4.46766158e+00,  1.57009246e-16]])"
      ]
     },
     "execution_count": 15,
     "metadata": {},
     "output_type": "execute_result"
    }
   ],
   "source": [
    "pca_data"
   ]
  },
  {
   "cell_type": "code",
   "execution_count": 16,
   "id": "5d0cf35e",
   "metadata": {},
   "outputs": [
    {
     "data": {
      "text/plain": [
       "array([3.99200000e+01, 4.93038066e-32])"
      ]
     },
     "execution_count": 16,
     "metadata": {},
     "output_type": "execute_result"
    }
   ],
   "source": [
    "pca.explained_variance_"
   ]
  },
  {
   "cell_type": "code",
   "execution_count": 17,
   "id": "7c698c96",
   "metadata": {},
   "outputs": [
    {
     "data": {
      "text/plain": [
       "array([1.00000000e+00, 1.23506529e-33])"
      ]
     },
     "execution_count": 17,
     "metadata": {},
     "output_type": "execute_result"
    }
   ],
   "source": [
    "pca.explained_variance_ratio_"
   ]
  },
  {
   "cell_type": "markdown",
   "id": "f7433e4a",
   "metadata": {},
   "source": [
    "The 1 unit vector long along the direction of a principal component is referred to as `Singluar Vector` or the `Eigen vector` of that component.\n",
    "\n",
    "The values of these vector tells how much of the each of the variable contributed to the component. These proportion of each variables are called loading scores.\n",
    "\n",
    "\n",
    "Below are the eigen vectors as computed by pca function."
   ]
  },
  {
   "cell_type": "code",
   "execution_count": 18,
   "id": "9d26c1fa",
   "metadata": {},
   "outputs": [
    {
     "name": "stdout",
     "output_type": "stream",
     "text": [
      "Eigen Vector along PC1 : [4.46766158e+00 1.57009246e-16]\n",
      "Eigen Vector along PC2 : [-4.46766158e+00  1.57009246e-16]\n"
     ]
    }
   ],
   "source": [
    "print(f'Eigen Vector along PC1 : {pca_data[0]}')\n",
    "print(f'Eigen Vector along PC2 : {pca_data[1]}')"
   ]
  },
  {
   "cell_type": "markdown",
   "id": "dd77752d",
   "metadata": {},
   "source": [
    "Note:\n",
    "- The average of the Sum of Squared distaces for the best fit line as `Eigen value` for PC1.\n",
    "- The square root of the Sum of the squared distances is called as `Singluar value` for PC1.\n",
    "\n",
    "Eigen values gives the measure of variation of the variables in PCs.\n",
    "\n",
    "Using sklearn function, they are given by:"
   ]
  },
  {
   "cell_type": "code",
   "execution_count": 19,
   "id": "6ab2afc9",
   "metadata": {},
   "outputs": [
    {
     "name": "stdout",
     "output_type": "stream",
     "text": [
      "Eigen value along PC1 : 39.92000000000001\n",
      "Eigen value along PC2 : 4.930380657631326e-32\n"
     ]
    }
   ],
   "source": [
    "print(f'Eigen value along PC1 : {pca.explained_variance_[0]}')\n",
    "print(f'Eigen value along PC2 : {pca.explained_variance_[1]}')"
   ]
  },
  {
   "cell_type": "markdown",
   "id": "ed0ee767",
   "metadata": {},
   "source": [
    "The total variation around both PCs are just the sum of both."
   ]
  },
  {
   "cell_type": "code",
   "execution_count": 20,
   "id": "0d61f6e6",
   "metadata": {},
   "outputs": [
    {
     "data": {
      "text/plain": [
       "39.92000000000001"
      ]
     },
     "execution_count": 20,
     "metadata": {},
     "output_type": "execute_result"
    }
   ],
   "source": [
    "total_var = pca.explained_variance_.sum()\n",
    "total_var"
   ]
  },
  {
   "cell_type": "markdown",
   "id": "71e69c09",
   "metadata": {},
   "source": [
    "Dividing eigen value of a PC with the total variation arounf PCs gives how much a given PC accounts for total variation."
   ]
  },
  {
   "cell_type": "code",
   "execution_count": 21,
   "id": "0c92f1e2",
   "metadata": {},
   "outputs": [
    {
     "name": "stdout",
     "output_type": "stream",
     "text": [
      "PC1 accounts for : 100.0%\n",
      "PC2 accounts for : 1.2350652949978268e-31%\n"
     ]
    }
   ],
   "source": [
    "print(f'PC1 accounts for : {(pca.explained_variance_[0]/total_var)*100}%')\n",
    "print(f'PC2 accounts for : {(pca.explained_variance_[1]/total_var)*100}%')"
   ]
  },
  {
   "cell_type": "code",
   "execution_count": 22,
   "id": "b4edb03d",
   "metadata": {},
   "outputs": [
    {
     "data": {
      "text/plain": [
       "array([1.00000000e+00, 1.23506529e-33])"
      ]
     },
     "execution_count": 22,
     "metadata": {},
     "output_type": "execute_result"
    }
   ],
   "source": [
    "pca.explained_variance_ratio_"
   ]
  },
  {
   "cell_type": "markdown",
   "id": "def025f6",
   "metadata": {},
   "source": [
    "Here we make use of scree plot, which is a graphical representation of percentages of variation that each PC account for."
   ]
  },
  {
   "cell_type": "code",
   "execution_count": 23,
   "id": "251fb9e8",
   "metadata": {},
   "outputs": [
    {
     "data": {
      "text/plain": [
       "<BarContainer object of 2 artists>"
      ]
     },
     "execution_count": 23,
     "metadata": {},
     "output_type": "execute_result"
    },
    {
     "data": {
      "image/png": "[encoded data removed]",
      "text/plain": [
       "<Figure size 432x288 with 1 Axes>"
      ]
     },
     "metadata": {
      "needs_background": "light"
     },
     "output_type": "display_data"
    }
   ],
   "source": [
    "plt.bar(x = ['PC1', 'PC2'], height = pca.explained_variance_ratio_)"
   ]
  },
  {
   "cell_type": "markdown",
   "id": "eae61bc4",
   "metadata": {},
   "source": [
    "Now let's extend it to the data with three variables.\n",
    "Consider this:"
   ]
  },
  {
   "cell_type": "code",
   "execution_count": 24,
   "id": "f5cd704d",
   "metadata": {},
   "outputs": [
    {
     "data": {
      "text/html": [
       "<div>\n",
       "<style scoped>\n",
       "    .dataframe tbody tr th:only-of-type {\n",
       "        vertical-align: middle;\n",
       "    }\n",
       "\n",
       "    .dataframe tbody tr th {\n",
       "        vertical-align: top;\n",
       "    }\n",
       "\n",
       "    .dataframe thead th {\n",
       "        text-align: right;\n",
       "    }\n",
       "</style>\n",
       "<table border=\"1\" class=\"dataframe\">\n",
       "  <thead>\n",
       "    <tr style=\"text-align: right;\">\n",
       "      <th></th>\n",
       "      <th>Student1</th>\n",
       "      <th>Student2</th>\n",
       "      <th>Student3</th>\n",
       "      <th>Student4</th>\n",
       "      <th>Student5</th>\n",
       "      <th>Student6</th>\n",
       "    </tr>\n",
       "  </thead>\n",
       "  <tbody>\n",
       "    <tr>\n",
       "      <th>Maths</th>\n",
       "      <td>10.0</td>\n",
       "      <td>11.0</td>\n",
       "      <td>8.0</td>\n",
       "      <td>3.0</td>\n",
       "      <td>1.0</td>\n",
       "      <td>2.0</td>\n",
       "    </tr>\n",
       "    <tr>\n",
       "      <th>Physics</th>\n",
       "      <td>6.0</td>\n",
       "      <td>4.0</td>\n",
       "      <td>5.0</td>\n",
       "      <td>3.0</td>\n",
       "      <td>3.2</td>\n",
       "      <td>1.0</td>\n",
       "    </tr>\n",
       "    <tr>\n",
       "      <th>Statistics</th>\n",
       "      <td>12.0</td>\n",
       "      <td>9.0</td>\n",
       "      <td>10.0</td>\n",
       "      <td>2.5</td>\n",
       "      <td>1.3</td>\n",
       "      <td>2.0</td>\n",
       "    </tr>\n",
       "  </tbody>\n",
       "</table>\n",
       "</div>"
      ],
      "text/plain": [
       "            Student1  Student2  Student3  Student4  Student5  Student6\n",
       "Maths           10.0      11.0       8.0       3.0       1.0       2.0\n",
       "Physics          6.0       4.0       5.0       3.0       3.2       1.0\n",
       "Statistics      12.0       9.0      10.0       2.5       1.3       2.0"
      ]
     },
     "execution_count": 24,
     "metadata": {},
     "output_type": "execute_result"
    }
   ],
   "source": [
    "data2 = data.copy()\n",
    "data2.loc['Statistics'] = [12,9,10,2.5,1.3,2]\n",
    "data2.head()"
   ]
  },
  {
   "cell_type": "markdown",
   "id": "d104fa20",
   "metadata": {},
   "source": [
    "Let's apply PCA, by following the steps above."
   ]
  },
  {
   "cell_type": "code",
   "execution_count": 25,
   "id": "8949a37f",
   "metadata": {},
   "outputs": [],
   "source": [
    "pca2 = PCA(n_components=3)\n",
    "pca_data2 = pca2.fit_transform(data2)"
   ]
  },
  {
   "cell_type": "code",
   "execution_count": 26,
   "id": "f8d88b64",
   "metadata": {},
   "outputs": [
    {
     "data": {
      "text/html": [
       "<style>#sk-container-id-1 {color: black;background-color: white;}#sk-container-id-1 pre{padding: 0;}#sk-container-id-1 div.sk-toggleable {background-color: white;}#sk-container-id-1 label.sk-toggleable__label {cursor: pointer;display: block;width: 100%;margin-bottom: 0;padding: 0.3em;box-sizing: border-box;text-align: center;}#sk-container-id-1 label.sk-toggleable__label-arrow:before {content: \"▸\";float: left;margin-right: 0.25em;color: #696969;}#sk-container-id-1 label.sk-toggleable__label-arrow:hover:before {color: black;}#sk-container-id-1 div.sk-estimator:hover label.sk-toggleable__label-arrow:before {color: black;}#sk-container-id-1 div.sk-toggleable__content {max-height: 0;max-width: 0;overflow: hidden;text-align: left;background-color: #f0f8ff;}#sk-container-id-1 div.sk-toggleable__content pre {margin: 0.2em;color: black;border-radius: 0.25em;background-color: #f0f8ff;}#sk-container-id-1 input.sk-toggleable__control:checked~div.sk-toggleable__content {max-height: 200px;max-width: 100%;overflow: auto;}#sk-container-id-1 input.sk-toggleable__control:checked~label.sk-toggleable__label-arrow:before {content: \"▾\";}#sk-container-id-1 div.sk-estimator input.sk-toggleable__control:checked~label.sk-toggleable__label {background-color: #d4ebff;}#sk-container-id-1 div.sk-label input.sk-toggleable__control:checked~label.sk-toggleable__label {background-color: #d4ebff;}#sk-container-id-1 input.sk-hidden--visually {border: 0;clip: rect(1px 1px 1px 1px);clip: rect(1px, 1px, 1px, 1px);height: 1px;margin: -1px;overflow: hidden;padding: 0;position: absolute;width: 1px;}#sk-container-id-1 div.sk-estimator {font-family: monospace;background-color: #f0f8ff;border: 1px dotted black;border-radius: 0.25em;box-sizing: border-box;margin-bottom: 0.5em;}#sk-container-id-1 div.sk-estimator:hover {background-color: #d4ebff;}#sk-container-id-1 div.sk-parallel-item::after {content: \"\";width: 100%;border-bottom: 1px solid gray;flex-grow: 1;}#sk-container-id-1 div.sk-label:hover label.sk-toggleable__label {background-color: #d4ebff;}#sk-container-id-1 div.sk-serial::before {content: \"\";position: absolute;border-left: 1px solid gray;box-sizing: border-box;top: 0;bottom: 0;left: 50%;z-index: 0;}#sk-container-id-1 div.sk-serial {display: flex;flex-direction: column;align-items: center;background-color: white;padding-right: 0.2em;padding-left: 0.2em;position: relative;}#sk-container-id-1 div.sk-item {position: relative;z-index: 1;}#sk-container-id-1 div.sk-parallel {display: flex;align-items: stretch;justify-content: center;background-color: white;position: relative;}#sk-container-id-1 div.sk-item::before, #sk-container-id-1 div.sk-parallel-item::before {content: \"\";position: absolute;border-left: 1px solid gray;box-sizing: border-box;top: 0;bottom: 0;left: 50%;z-index: -1;}#sk-container-id-1 div.sk-parallel-item {display: flex;flex-direction: column;z-index: 1;position: relative;background-color: white;}#sk-container-id-1 div.sk-parallel-item:first-child::after {align-self: flex-end;width: 50%;}#sk-container-id-1 div.sk-parallel-item:last-child::after {align-self: flex-start;width: 50%;}#sk-container-id-1 div.sk-parallel-item:only-child::after {width: 0;}#sk-container-id-1 div.sk-dashed-wrapped {border: 1px dashed gray;margin: 0 0.4em 0.5em 0.4em;box-sizing: border-box;padding-bottom: 0.4em;background-color: white;}#sk-container-id-1 div.sk-label label {font-family: monospace;font-weight: bold;display: inline-block;line-height: 1.2em;}#sk-container-id-1 div.sk-label-container {text-align: center;}#sk-container-id-1 div.sk-container {/* jupyter's `normalize.less` sets `[hidden] { display: none; }` but bootstrap.min.css set `[hidden] { display: none !important; }` so we also need the `!important` here to be able to override the default hidden behavior on the sphinx rendered scikit-learn.org. See: https://github.com/scikit-learn/scikit-learn/issues/21755 */display: inline-block !important;position: relative;}#sk-container-id-1 div.sk-text-repr-fallback {display: none;}</style><div id=\"sk-container-id-1\" class=\"sk-top-container\"><div class=\"sk-text-repr-fallback\"><pre>PCA(n_components=3)</pre><b>In a Jupyter environment, please rerun this cell to show the HTML representation or trust the notebook. <br />On GitHub, the HTML representation is unable to render, please try loading this page with nbviewer.org.</b></div><div class=\"sk-container\" hidden><div class=\"sk-item\"><div class=\"sk-estimator sk-toggleable\"><input class=\"sk-toggleable__control sk-hidden--visually\" id=\"sk-estimator-id-1\" type=\"checkbox\" checked><label for=\"sk-estimator-id-1\" class=\"sk-toggleable__label sk-toggleable__label-arrow\">PCA</label><div class=\"sk-toggleable__content\"><pre>PCA(n_components=3)</pre></div></div></div></div></div>"
      ],
      "text/plain": [
       "PCA(n_components=3)"
      ]
     },
     "execution_count": 26,
     "metadata": {},
     "output_type": "execute_result"
    }
   ],
   "source": [
    "pca2"
   ]
  },
  {
   "cell_type": "code",
   "execution_count": 27,
   "id": "4f79fafb",
   "metadata": {
    "scrolled": true
   },
   "outputs": [
    {
     "data": {
      "text/html": [
       "<div>\n",
       "<style scoped>\n",
       "    .dataframe tbody tr th:only-of-type {\n",
       "        vertical-align: middle;\n",
       "    }\n",
       "\n",
       "    .dataframe tbody tr th {\n",
       "        vertical-align: top;\n",
       "    }\n",
       "\n",
       "    .dataframe thead th {\n",
       "        text-align: right;\n",
       "    }\n",
       "</style>\n",
       "<table border=\"1\" class=\"dataframe\">\n",
       "  <thead>\n",
       "    <tr style=\"text-align: right;\">\n",
       "      <th></th>\n",
       "      <th>Student1</th>\n",
       "      <th>Student2</th>\n",
       "      <th>Student3</th>\n",
       "      <th>Student4</th>\n",
       "      <th>Student5</th>\n",
       "      <th>Student6</th>\n",
       "    </tr>\n",
       "  </thead>\n",
       "  <tbody>\n",
       "    <tr>\n",
       "      <th>PC1</th>\n",
       "      <td>-0.561447</td>\n",
       "      <td>-0.646503</td>\n",
       "      <td>-0.451633</td>\n",
       "      <td>0.030548</td>\n",
       "      <td>0.223261</td>\n",
       "      <td>-0.109814</td>\n",
       "    </tr>\n",
       "    <tr>\n",
       "      <th>PC2</th>\n",
       "      <td>-0.469342</td>\n",
       "      <td>0.708209</td>\n",
       "      <td>-0.491057</td>\n",
       "      <td>0.139051</td>\n",
       "      <td>-0.131204</td>\n",
       "      <td>0.021715</td>\n",
       "    </tr>\n",
       "    <tr>\n",
       "      <th>PC3</th>\n",
       "      <td>-0.614669</td>\n",
       "      <td>0.144279</td>\n",
       "      <td>0.626269</td>\n",
       "      <td>-0.413526</td>\n",
       "      <td>0.195319</td>\n",
       "      <td>-0.000386</td>\n",
       "    </tr>\n",
       "  </tbody>\n",
       "</table>\n",
       "</div>"
      ],
      "text/plain": [
       "     Student1  Student2  Student3  Student4  Student5  Student6\n",
       "PC1 -0.561447 -0.646503 -0.451633  0.030548  0.223261 -0.109814\n",
       "PC2 -0.469342  0.708209 -0.491057  0.139051 -0.131204  0.021715\n",
       "PC3 -0.614669  0.144279  0.626269 -0.413526  0.195319 -0.000386"
      ]
     },
     "execution_count": 27,
     "metadata": {},
     "output_type": "execute_result"
    }
   ],
   "source": [
    "rotated_data2 = pd.DataFrame(pca2.components_, columns=data2.columns, index=['PC1','PC2', 'PC3'])\n",
    "rotated_data2"
   ]
  },
  {
   "cell_type": "code",
   "execution_count": 28,
   "id": "9957a80d",
   "metadata": {},
   "outputs": [
    {
     "data": {
      "text/plain": [
       "array([[-2.68191702e+00,  1.78779473e+00,  5.00135483e-16],\n",
       "       [ 6.04528374e+00, -1.29486389e-01,  5.00135483e-16],\n",
       "       [-3.36336672e+00, -1.65830834e+00,  5.00135483e-16]])"
      ]
     },
     "execution_count": 28,
     "metadata": {},
     "output_type": "execute_result"
    }
   ],
   "source": [
    "pca_data2"
   ]
  },
  {
   "cell_type": "code",
   "execution_count": 29,
   "id": "e89f15f9",
   "metadata": {},
   "outputs": [
    {
     "name": "stdout",
     "output_type": "stream",
     "text": [
      "Eigen Vector along PC1 : [-2.68191702e+00  1.78779473e+00  5.00135483e-16]\n",
      "Eigen Vector along PC2 : [ 6.04528374e+00 -1.29486389e-01  5.00135483e-16]\n",
      "Eigen Vector along PC3 : [-3.36336672e+00 -1.65830834e+00  5.00135483e-16]\n"
     ]
    }
   ],
   "source": [
    "print(f'Eigen Vector along PC1 : {pca_data2[0]}')\n",
    "print(f'Eigen Vector along PC2 : {pca_data2[1]}')\n",
    "print(f'Eigen Vector along PC3 : {pca_data2[2]}')"
   ]
  },
  {
   "cell_type": "markdown",
   "id": "ecbbb971",
   "metadata": {},
   "source": [
    "Let's take PC1 first. "
   ]
  },
  {
   "cell_type": "code",
   "execution_count": 33,
   "id": "565ee322",
   "metadata": {},
   "outputs": [
    {
     "name": "stdout",
     "output_type": "stream",
     "text": [
      "Eigen Vector along PC1 : [-2.68191702e+00  1.78779473e+00  5.00135483e-16]\n"
     ]
    }
   ],
   "source": [
    "print(f'Eigen Vector along PC1 : {pca_data2[0]}')"
   ]
  },
  {
   "cell_type": "markdown",
   "id": "465880f0",
   "metadata": {},
   "source": [
    "PC1 is majorly comprised of variable# 2, 'Physics' followed by 'Statistics' and 'Maths'."
   ]
  },
  {
   "cell_type": "code",
   "execution_count": 36,
   "id": "ff121631",
   "metadata": {},
   "outputs": [
    {
     "name": "stdout",
     "output_type": "stream",
     "text": [
      "Eigen Vector along PC2 : [ 6.04528374e+00 -1.29486389e-01  5.00135483e-16]\n",
      "Eigen Vector along PC3 : [-3.36336672e+00 -1.65830834e+00  5.00135483e-16]\n"
     ]
    }
   ],
   "source": [
    "print(f'Eigen Vector along PC2 : {pca_data2[1]}')\n",
    "print(f'Eigen Vector along PC3 : {pca_data2[2]}')"
   ]
  },
  {
   "cell_type": "markdown",
   "id": "e6686547",
   "metadata": {},
   "source": [
    "Similarly, PC2 being perpendicular to PC1, is majorly comprised of 'Maths' and PC3 is perpendicular to both PC1, and PC2 and has greatest proportion for 'Statistics'.\n",
    "\n",
    "If we had more variables in out data, we keep on finding more and more principal components by adding principal lines and rotating them until getting best fits according to the specified objective.\n",
    "\n",
    "> **In theory, there is one principal component per each variable but in practice, the number of PCs is either number of variables or the number of samples, whichever is smaller.**\n",
    "\n",
    "Once we have all the principal components figured out, we can use the eigen values (Sum of squared distances) to determine the proportion of variation that each PC account for. (Below is the working for it using sklearn functions)."
   ]
  },
  {
   "cell_type": "code",
   "execution_count": 43,
   "id": "dfe22661",
   "metadata": {},
   "outputs": [],
   "source": [
    "total_var2 = pca2.explained_variance_.sum()"
   ]
  },
  {
   "cell_type": "code",
   "execution_count": 44,
   "id": "f6d9c42b",
   "metadata": {},
   "outputs": [
    {
     "name": "stdout",
     "output_type": "stream",
     "text": [
      "PC1 accounts for : 90.22678664377429%\n",
      "PC2 accounts for : 9.773213356225702%\n",
      "PC3 accounts for : 1.2299057648569933e-30%\n"
     ]
    }
   ],
   "source": [
    "print(f'PC1 accounts for : {(pca2.explained_variance_[0]/total_var2)*100}%')\n",
    "print(f'PC2 accounts for : {(pca2.explained_variance_[1]/total_var2)*100}%')\n",
    "print(f'PC3 accounts for : {(pca2.explained_variance_[2]/total_var2)*100}%')"
   ]
  },
  {
   "cell_type": "markdown",
   "id": "a86bc895",
   "metadata": {},
   "source": [
    "This tells that:\n",
    "- PC1 accounts for 90% of the variation.\n",
    "- PC2 accounts for 9.7% of the variation.\n",
    "- PC3 accountd for ~0% for the variation."
   ]
  },
  {
   "cell_type": "code",
   "execution_count": 46,
   "id": "1e1716a8",
   "metadata": {
    "scrolled": false
   },
   "outputs": [
    {
     "data": {
      "image/png": "[encoded data removed]",
      "text/plain": [
       "<Figure size 432x288 with 1 Axes>"
      ]
     },
     "metadata": {
      "needs_background": "light"
     },
     "output_type": "display_data"
    }
   ],
   "source": [
    "plt.bar(x = ['PC1', 'PC2', 'PC3'], height = pca2.explained_variance_ratio_)\n",
    "plt.show()"
   ]
  },
  {
   "cell_type": "markdown",
   "id": "f8b2df31",
   "metadata": {},
   "source": [
    "PC1 and PC2 accounts for vast majority of the variation. That means that a 2D graph using only PC1 and PC2, would be agood approximation of the original 3D graph since it would account for 99.7% of the variation in the data."
   ]
  },
  {
   "cell_type": "markdown",
   "id": "0207f5aa",
   "metadata": {},
   "source": [
    "After selecting the desired PCs, we convert the 3D graph to 2D graph by striping away the PC3 and original axis.\n",
    "We will left with PC1, PC2 and data points. The data points needs to be projected on PC1 and PC2, and then spotting the position of the transformed point using the coordinate pair from the projection on each PC."
   ]
  },
  {
   "cell_type": "code",
   "execution_count": 52,
   "id": "b8cc06e2",
   "metadata": {},
   "outputs": [
    {
     "data": {
      "text/html": [
       "<div>\n",
       "<style scoped>\n",
       "    .dataframe tbody tr th:only-of-type {\n",
       "        vertical-align: middle;\n",
       "    }\n",
       "\n",
       "    .dataframe tbody tr th {\n",
       "        vertical-align: top;\n",
       "    }\n",
       "\n",
       "    .dataframe thead th {\n",
       "        text-align: right;\n",
       "    }\n",
       "</style>\n",
       "<table border=\"1\" class=\"dataframe\">\n",
       "  <thead>\n",
       "    <tr style=\"text-align: right;\">\n",
       "      <th></th>\n",
       "      <th>Student1</th>\n",
       "      <th>Student2</th>\n",
       "      <th>Student3</th>\n",
       "      <th>Student4</th>\n",
       "      <th>Student5</th>\n",
       "      <th>Student6</th>\n",
       "    </tr>\n",
       "  </thead>\n",
       "  <tbody>\n",
       "    <tr>\n",
       "      <th>PC1</th>\n",
       "      <td>-0.561447</td>\n",
       "      <td>-0.646503</td>\n",
       "      <td>-0.451633</td>\n",
       "      <td>0.030548</td>\n",
       "      <td>0.223261</td>\n",
       "      <td>-0.109814</td>\n",
       "    </tr>\n",
       "    <tr>\n",
       "      <th>PC2</th>\n",
       "      <td>-0.469342</td>\n",
       "      <td>0.708209</td>\n",
       "      <td>-0.491057</td>\n",
       "      <td>0.139051</td>\n",
       "      <td>-0.131204</td>\n",
       "      <td>0.021715</td>\n",
       "    </tr>\n",
       "    <tr>\n",
       "      <th>PC3</th>\n",
       "      <td>-0.614669</td>\n",
       "      <td>0.144279</td>\n",
       "      <td>0.626269</td>\n",
       "      <td>-0.413526</td>\n",
       "      <td>0.195319</td>\n",
       "      <td>-0.000386</td>\n",
       "    </tr>\n",
       "  </tbody>\n",
       "</table>\n",
       "</div>"
      ],
      "text/plain": [
       "     Student1  Student2  Student3  Student4  Student5  Student6\n",
       "PC1 -0.561447 -0.646503 -0.451633  0.030548  0.223261 -0.109814\n",
       "PC2 -0.469342  0.708209 -0.491057  0.139051 -0.131204  0.021715\n",
       "PC3 -0.614669  0.144279  0.626269 -0.413526  0.195319 -0.000386"
      ]
     },
     "execution_count": 52,
     "metadata": {},
     "output_type": "execute_result"
    }
   ],
   "source": [
    "rotated_data2"
   ]
  },
  {
   "cell_type": "code",
   "execution_count": null,
   "id": "7920981e",
   "metadata": {},
   "outputs": [],
   "source": [
    "x = data2.loc['Maths'].values\n",
    "y = data2.loc['Physics'].values\n",
    "z = data2.loc['Statistics'].values\n",
    "\n",
    "a = rotated_data2.loc['PC1'].values\n",
    "b = rotated_data2.loc['PC2'].values"
   ]
  },
  {
   "cell_type": "code",
   "execution_count": 88,
   "id": "b28a9e93",
   "metadata": {},
   "outputs": [
    {
     "data": {
      "image/png": "[encoded data removed]",
      "text/plain": [
       "<Figure size 432x288 with 1 Axes>"
      ]
     },
     "metadata": {
      "needs_background": "light"
     },
     "output_type": "display_data"
    }
   ],
   "source": [
    "ax = plt.axes(projection ='3d')\n",
    "ax.scatter3D(x, y, z)\n",
    "plt.xlabel('Maths')\n",
    "plt.ylabel('Phyics')\n",
    "# plt.('Statistics')\n",
    "plt.show()"
   ]
  },
  {
   "cell_type": "code",
   "execution_count": 89,
   "id": "cff51455",
   "metadata": {},
   "outputs": [
    {
     "data": {
      "image/png": "[encoded data removed]",
      "text/plain": [
       "<Figure size 432x288 with 1 Axes>"
      ]
     },
     "metadata": {
      "needs_background": "light"
     },
     "output_type": "display_data"
    }
   ],
   "source": [
    "plt.scatter(a, b)\n",
    "\n",
    "plt.xlabel(\"PC1\")\n",
    "plt.ylabel(\"PC2\")\n",
    "plt.show()"
   ]
  },
  {
   "cell_type": "markdown",
   "id": "06f9705b",
   "metadata": {},
   "source": [
    "`THE END`"
   ]
  }
 ],
 "metadata": {
  "kernelspec": {
   "display_name": "Python 3 (ipykernel)",
   "language": "python",
   "name": "python3"
  },
  "language_info": {
   "codemirror_mode": {
    "name": "ipython",
    "version": 3
   },
   "file_extension": ".py",
   "mimetype": "text/x-python",
   "name": "python",
   "nbconvert_exporter": "python",
   "pygments_lexer": "ipython3",
   "version": "3.10.12"
  }
 },
 "nbformat": 4,
 "nbformat_minor": 5
}
