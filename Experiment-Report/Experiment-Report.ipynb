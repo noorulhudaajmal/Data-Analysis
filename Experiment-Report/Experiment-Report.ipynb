{
 "cells": [
  {
   "cell_type": "code",
   "execution_count": 18,
   "id": "62ec3f71",
   "metadata": {},
   "outputs": [],
   "source": [
    "import numpy as np\n",
    "import matplotlib.pyplot as plt\n",
    "import pandas as pd"
   ]
  },
  {
   "cell_type": "code",
   "execution_count": 2,
   "id": "1ac5664b",
   "metadata": {},
   "outputs": [],
   "source": [
    "df = pd.read_excel(\"experiment_data.xlsx\")"
   ]
  },
  {
   "cell_type": "code",
   "execution_count": 3,
   "id": "ae412843",
   "metadata": {
    "scrolled": true
   },
   "outputs": [
    {
     "data": {
      "text/html": [
       "<div>\n",
       "<style scoped>\n",
       "    .dataframe tbody tr th:only-of-type {\n",
       "        vertical-align: middle;\n",
       "    }\n",
       "\n",
       "    .dataframe tbody tr th {\n",
       "        vertical-align: top;\n",
       "    }\n",
       "\n",
       "    .dataframe thead th {\n",
       "        text-align: right;\n",
       "    }\n",
       "</style>\n",
       "<table border=\"1\" class=\"dataframe\">\n",
       "  <thead>\n",
       "    <tr style=\"text-align: right;\">\n",
       "      <th></th>\n",
       "      <th>Round</th>\n",
       "      <th>ID</th>\n",
       "      <th>Contribution</th>\n",
       "      <th>Total Points Sent</th>\n",
       "      <th>Cost</th>\n",
       "      <th>Punishment Received</th>\n",
       "      <th>Punishment Tax Rate</th>\n",
       "      <th>Earnings</th>\n",
       "      <th>Cumulative Earnings</th>\n",
       "      <th>Other Id</th>\n",
       "      <th>Unnamed: 10</th>\n",
       "      <th>Unnamed: 11</th>\n",
       "      <th>Unnamed: 12</th>\n",
       "    </tr>\n",
       "  </thead>\n",
       "  <tbody>\n",
       "    <tr>\n",
       "      <th>0</th>\n",
       "      <td>1</td>\n",
       "      <td>1</td>\n",
       "      <td>25</td>\n",
       "      <td>*</td>\n",
       "      <td>*.*</td>\n",
       "      <td>*</td>\n",
       "      <td>*.*</td>\n",
       "      <td>1.75</td>\n",
       "      <td>7.75</td>\n",
       "      <td>ID2:0</td>\n",
       "      <td>ID3:0</td>\n",
       "      <td>ID4:0</td>\n",
       "      <td>ID5:10</td>\n",
       "    </tr>\n",
       "    <tr>\n",
       "      <th>1</th>\n",
       "      <td>1</td>\n",
       "      <td>2</td>\n",
       "      <td>0</td>\n",
       "      <td>*</td>\n",
       "      <td>*.*</td>\n",
       "      <td>*</td>\n",
       "      <td>*.*</td>\n",
       "      <td>4.25</td>\n",
       "      <td>10.25</td>\n",
       "      <td>ID1:25</td>\n",
       "      <td>ID3:0</td>\n",
       "      <td>ID4:0</td>\n",
       "      <td>ID5:10</td>\n",
       "    </tr>\n",
       "    <tr>\n",
       "      <th>2</th>\n",
       "      <td>1</td>\n",
       "      <td>3</td>\n",
       "      <td>0</td>\n",
       "      <td>*</td>\n",
       "      <td>*.*</td>\n",
       "      <td>*</td>\n",
       "      <td>*.*</td>\n",
       "      <td>4.25</td>\n",
       "      <td>10.25</td>\n",
       "      <td>ID1:25</td>\n",
       "      <td>ID2:0</td>\n",
       "      <td>ID4:0</td>\n",
       "      <td>ID5:10</td>\n",
       "    </tr>\n",
       "    <tr>\n",
       "      <th>3</th>\n",
       "      <td>1</td>\n",
       "      <td>4</td>\n",
       "      <td>0</td>\n",
       "      <td>*</td>\n",
       "      <td>*.*</td>\n",
       "      <td>*</td>\n",
       "      <td>*.*</td>\n",
       "      <td>4.25</td>\n",
       "      <td>10.25</td>\n",
       "      <td>ID1:25</td>\n",
       "      <td>ID2:0</td>\n",
       "      <td>ID3:0</td>\n",
       "      <td>ID5:10</td>\n",
       "    </tr>\n",
       "    <tr>\n",
       "      <th>4</th>\n",
       "      <td>1</td>\n",
       "      <td>5</td>\n",
       "      <td>10</td>\n",
       "      <td>*</td>\n",
       "      <td>*.*</td>\n",
       "      <td>*</td>\n",
       "      <td>*.*</td>\n",
       "      <td>3.25</td>\n",
       "      <td>9.25</td>\n",
       "      <td>ID1:25</td>\n",
       "      <td>ID2:0</td>\n",
       "      <td>ID3:0</td>\n",
       "      <td>ID4:0</td>\n",
       "    </tr>\n",
       "  </tbody>\n",
       "</table>\n",
       "</div>"
      ],
      "text/plain": [
       "   Round  ID  Contribution Total Points Sent Cost Punishment Received  \\\n",
       "0      1   1            25                 *  *.*                   *   \n",
       "1      1   2             0                 *  *.*                   *   \n",
       "2      1   3             0                 *  *.*                   *   \n",
       "3      1   4             0                 *  *.*                   *   \n",
       "4      1   5            10                 *  *.*                   *   \n",
       "\n",
       "  Punishment Tax Rate  Earnings  Cumulative Earnings Other Id Unnamed: 10  \\\n",
       "0                 *.*      1.75                 7.75    ID2:0       ID3:0   \n",
       "1                 *.*      4.25                10.25   ID1:25       ID3:0   \n",
       "2                 *.*      4.25                10.25   ID1:25       ID2:0   \n",
       "3                 *.*      4.25                10.25   ID1:25       ID2:0   \n",
       "4                 *.*      3.25                 9.25   ID1:25       ID2:0   \n",
       "\n",
       "  Unnamed: 11 Unnamed: 12  \n",
       "0       ID4:0      ID5:10  \n",
       "1       ID4:0      ID5:10  \n",
       "2       ID4:0      ID5:10  \n",
       "3       ID3:0      ID5:10  \n",
       "4       ID3:0       ID4:0  "
      ]
     },
     "execution_count": 3,
     "metadata": {},
     "output_type": "execute_result"
    }
   ],
   "source": [
    "df.head(5)"
   ]
  },
  {
   "cell_type": "markdown",
   "id": "2c5dbded",
   "metadata": {},
   "source": [
    "## 1) In the experiment there were two groups of 5. Was there learning over the 10 rounds of the experiment?\n",
    "\n",
    " "
   ]
  },
  {
   "cell_type": "code",
   "execution_count": 4,
   "id": "a0fcfe26",
   "metadata": {},
   "outputs": [
    {
     "data": {
      "image/png": "[encoded data removed]",
      "text/plain": [
       "<Figure size 720x432 with 1 Axes>"
      ]
     },
     "metadata": {
      "needs_background": "light"
     },
     "output_type": "display_data"
    }
   ],
   "source": [
    "# Calculate mean contribution for each round\n",
    "mean_contributions = df.groupby('Round')['Contribution'].mean()\n",
    "\n",
    "# Plot mean contribution for each round\n",
    "plt.figure(figsize=(10,6))\n",
    "plt.plot(mean_contributions,label=\"Mean Contribtion\")\n",
    "plt.xlabel('Round')\n",
    "plt.ylabel('Mean Contribution')\n",
    "plt.title('Mean Contribution by Round')\n",
    "plt.legend()\n",
    "plt.show()"
   ]
  },
  {
   "cell_type": "markdown",
   "id": "6d31d864",
   "metadata": {},
   "source": [
    "This code creates a line plot of the mean contribution for each round, with the x-axis representing the round number and the y-axis representing the mean contribution for that round. As we can see that there exist a trend in the data.\n",
    "\n",
    "Following the trend given by line, it can be observed that from Round 1-3 learning increases, then there was a downfall of learnign from Round 3-8. And afterwards learning increases significantly till ROund 17 and then it experiences little bit of downgrade. \n",
    "\n",
    "It's also worth noting that we should repeat this analysis for each group separately, since there were two groups of 5 in the experiment. We can add a group identifier to the groupby function to group the data by group and round, and then calculate the mean contribution for each group and round."
   ]
  },
  {
   "cell_type": "code",
   "execution_count": 5,
   "id": "eea81a36",
   "metadata": {},
   "outputs": [],
   "source": [
    "# Create a new column named \"group\" based on the ID column\n",
    "df['group'] = df['ID'].apply(lambda x:\"G1\" if x<=5 else \"G2\")"
   ]
  },
  {
   "cell_type": "code",
   "execution_count": 6,
   "id": "4012305a",
   "metadata": {},
   "outputs": [
    {
     "data": {
      "image/png": "[encoded data removed]",
      "text/plain": [
       "<Figure size 720x432 with 1 Axes>"
      ]
     },
     "metadata": {
      "needs_background": "light"
     },
     "output_type": "display_data"
    }
   ],
   "source": [
    "# Calculate mean contribution for each round and group\n",
    "mean_contributions_by_group = df.groupby(['group', 'Round'])['Contribution'].mean()\n",
    "\n",
    "# Plot mean contribution for each round and group\n",
    "plt.figure(figsize=(10,6))\n",
    "for group in mean_contributions_by_group.index.levels[0]:\n",
    "    plt.plot(mean_contributions_by_group.loc[group], label=f'Group {group}')\n",
    "plt.xlabel('Round')\n",
    "plt.ylabel('Mean Contribution')\n",
    "plt.title('Mean Contribution by Round and Group')\n",
    "plt.legend()\n",
    "plt.show()"
   ]
  },
  {
   "cell_type": "markdown",
   "id": "0beb04ea",
   "metadata": {},
   "source": [
    "Analysing these trends tells us that Group1 learning is more than Group2 learning over the Rounds. However Group1 experiences major downfall from Rounf 3-10. But still its learning is giving greater Average output."
   ]
  },
  {
   "cell_type": "markdown",
   "id": "417df37c",
   "metadata": {},
   "source": [
    "## 2) Were the contributions higher in the treatment with punishment as compared to those without punishment in the first and last five rounds (I.e., compare rounds 1-10 with and without punishment and then rounds 11-20 with and without punishment)?\n",
    "\n"
   ]
  },
  {
   "cell_type": "code",
   "execution_count": 7,
   "id": "7c68e46c",
   "metadata": {},
   "outputs": [],
   "source": [
    "# replace '*' and '*.*' with 0 in the 'Cost' column\n",
    "df['Cost'] = df['Cost'].replace(['*', '*.*'], 0)\n",
    "\n",
    "df['Punishment Received'] = df['Punishment Received'].replace(['*', '*.*'], 0)\n",
    "df['Punishment Tax Rate'] = df['Punishment Tax Rate'].replace(['*', '*.*'], 0)\n",
    "df['Total Points Sent'] = df['Total Points Sent'].replace(['*', '*.*'], 0)"
   ]
  },
  {
   "cell_type": "code",
   "execution_count": 8,
   "id": "9f8c4556",
   "metadata": {},
   "outputs": [],
   "source": [
    "# Create a new column to indicate if the punishment was allowed or not\n",
    "df['Punishment'] = df['Cost'] > 0"
   ]
  },
  {
   "cell_type": "code",
   "execution_count": 9,
   "id": "02fe6ee1",
   "metadata": {},
   "outputs": [
    {
     "data": {
      "text/html": [
       "<div>\n",
       "<style scoped>\n",
       "    .dataframe tbody tr th:only-of-type {\n",
       "        vertical-align: middle;\n",
       "    }\n",
       "\n",
       "    .dataframe tbody tr th {\n",
       "        vertical-align: top;\n",
       "    }\n",
       "\n",
       "    .dataframe thead th {\n",
       "        text-align: right;\n",
       "    }\n",
       "</style>\n",
       "<table border=\"1\" class=\"dataframe\">\n",
       "  <thead>\n",
       "    <tr style=\"text-align: right;\">\n",
       "      <th></th>\n",
       "      <th>Round</th>\n",
       "      <th>ID</th>\n",
       "      <th>Contribution</th>\n",
       "      <th>Total Points Sent</th>\n",
       "      <th>Cost</th>\n",
       "      <th>Punishment Received</th>\n",
       "      <th>Punishment Tax Rate</th>\n",
       "      <th>Earnings</th>\n",
       "      <th>Cumulative Earnings</th>\n",
       "      <th>Other Id</th>\n",
       "      <th>Unnamed: 10</th>\n",
       "      <th>Unnamed: 11</th>\n",
       "      <th>Unnamed: 12</th>\n",
       "      <th>group</th>\n",
       "      <th>Punishment</th>\n",
       "    </tr>\n",
       "  </thead>\n",
       "  <tbody>\n",
       "    <tr>\n",
       "      <th>0</th>\n",
       "      <td>1</td>\n",
       "      <td>1</td>\n",
       "      <td>25</td>\n",
       "      <td>0</td>\n",
       "      <td>0.0</td>\n",
       "      <td>0</td>\n",
       "      <td>0.0</td>\n",
       "      <td>1.75</td>\n",
       "      <td>7.75</td>\n",
       "      <td>ID2:0</td>\n",
       "      <td>ID3:0</td>\n",
       "      <td>ID4:0</td>\n",
       "      <td>ID5:10</td>\n",
       "      <td>G1</td>\n",
       "      <td>False</td>\n",
       "    </tr>\n",
       "    <tr>\n",
       "      <th>1</th>\n",
       "      <td>1</td>\n",
       "      <td>2</td>\n",
       "      <td>0</td>\n",
       "      <td>0</td>\n",
       "      <td>0.0</td>\n",
       "      <td>0</td>\n",
       "      <td>0.0</td>\n",
       "      <td>4.25</td>\n",
       "      <td>10.25</td>\n",
       "      <td>ID1:25</td>\n",
       "      <td>ID3:0</td>\n",
       "      <td>ID4:0</td>\n",
       "      <td>ID5:10</td>\n",
       "      <td>G1</td>\n",
       "      <td>False</td>\n",
       "    </tr>\n",
       "    <tr>\n",
       "      <th>2</th>\n",
       "      <td>1</td>\n",
       "      <td>3</td>\n",
       "      <td>0</td>\n",
       "      <td>0</td>\n",
       "      <td>0.0</td>\n",
       "      <td>0</td>\n",
       "      <td>0.0</td>\n",
       "      <td>4.25</td>\n",
       "      <td>10.25</td>\n",
       "      <td>ID1:25</td>\n",
       "      <td>ID2:0</td>\n",
       "      <td>ID4:0</td>\n",
       "      <td>ID5:10</td>\n",
       "      <td>G1</td>\n",
       "      <td>False</td>\n",
       "    </tr>\n",
       "  </tbody>\n",
       "</table>\n",
       "</div>"
      ],
      "text/plain": [
       "   Round  ID  Contribution  Total Points Sent  Cost  Punishment Received  \\\n",
       "0      1   1            25                  0   0.0                    0   \n",
       "1      1   2             0                  0   0.0                    0   \n",
       "2      1   3             0                  0   0.0                    0   \n",
       "\n",
       "   Punishment Tax Rate  Earnings  Cumulative Earnings Other Id Unnamed: 10  \\\n",
       "0                  0.0      1.75                 7.75    ID2:0       ID3:0   \n",
       "1                  0.0      4.25                10.25   ID1:25       ID3:0   \n",
       "2                  0.0      4.25                10.25   ID1:25       ID2:0   \n",
       "\n",
       "  Unnamed: 11 Unnamed: 12 group  Punishment  \n",
       "0       ID4:0      ID5:10    G1       False  \n",
       "1       ID4:0      ID5:10    G1       False  \n",
       "2       ID4:0      ID5:10    G1       False  "
      ]
     },
     "execution_count": 9,
     "metadata": {},
     "output_type": "execute_result"
    }
   ],
   "source": [
    "df.head(3)"
   ]
  },
  {
   "cell_type": "markdown",
   "id": "620a07f3",
   "metadata": {},
   "source": [
    "To compare the contributions in Treatment 1 (no punishment) and Treatment 2 (punishment permitted), we can create two separate dataframes, one for each treatment. We can then calculate the average contribution for each treatment for the first 10 rounds and the last 10 rounds, and plot them on a bar graph to visualize the difference."
   ]
  },
  {
   "cell_type": "code",
   "execution_count": 10,
   "id": "496ca730",
   "metadata": {
    "scrolled": true
   },
   "outputs": [
    {
     "data": {
      "image/png": "[encoded data removed]",
      "text/plain": [
       "<Figure size 720x288 with 1 Axes>"
      ]
     },
     "metadata": {
      "needs_background": "light"
     },
     "output_type": "display_data"
    }
   ],
   "source": [
    "# Split the data into two dataframes for each treatment\n",
    "df_treatment1 = df[df['Punishment'] == False]\n",
    "df_treatment2 = df[df['Punishment'] == True]\n",
    "\n",
    "# Calculate the average contribution for each treatment and each round range\n",
    "treatment1_round1_10_avg = df_treatment1[df_treatment1['Round'] <= 10]['Contribution'].mean()\n",
    "treatment1_round11_20_avg = df_treatment1[df_treatment1['Round'] >= 11]['Contribution'].mean()\n",
    "treatment2_round1_10_avg = df_treatment2[df_treatment2['Round'] <= 10]['Contribution'].mean()\n",
    "treatment2_round11_20_avg = df_treatment2[df_treatment2['Round'] >= 11]['Contribution'].mean()\n",
    "rounds = ['Rounds 1-10', 'Rounds 11-20']\n",
    "\n",
    "# Set the positions and width of the bars\n",
    "bar_width = 0.35\n",
    "bar_positions1 = np.arange(len(rounds))\n",
    "bar_positions2 = bar_positions1 + bar_width\n",
    "\n",
    "# Plot the grouped bar graph\n",
    "plt.figure(figsize=(10,4))\n",
    "plt.bar(bar_positions1, [treatment1_round1_10_avg, treatment1_round11_20_avg], width=bar_width, label='Treatment 1',color = \"#84B082\")\n",
    "plt.bar(bar_positions2, [treatment2_round1_10_avg, treatment2_round11_20_avg], width=bar_width, label='Treatment 2',color = \"#353A47\")\n",
    "plt.xticks(bar_positions1 + bar_width/2, rounds)\n",
    "plt.legend()\n",
    "plt.show()"
   ]
  },
  {
   "cell_type": "markdown",
   "id": "b117d0da",
   "metadata": {},
   "source": [
    "The resulting bar graph will show the average contributions for each treatment in the first 10 rounds and last 10 rounds:\n",
    "\n",
    "From the graph, we can see that the contributions were higher in Treatment 1 (without punishment) compared to Treatment 2 (with punishment) in both the first and last five rounds. This suggests that the presence of punishment had a negative effect on contributions, regardless of the round range."
   ]
  },
  {
   "cell_type": "markdown",
   "id": "9dc104d6",
   "metadata": {},
   "source": [
    "## 3) Were people who contributed less than the mean of the group in any round punished more than those who contributed more than the mean? In other words, was there a norm for contributions (the mean) which was such that if you contributed less you were punished? "
   ]
  },
  {
   "cell_type": "markdown",
   "id": "94248a97",
   "metadata": {},
   "source": [
    "To answer this question, we can calculate the mean contribution for each round and then compare the punishment received by those who contributed less than the mean with those who contributed more than the mean.\n",
    "\n",
    "First, we calculate the mean contribution for each round in both treatments:"
   ]
  },
  {
   "cell_type": "code",
   "execution_count": 11,
   "id": "96db0add",
   "metadata": {},
   "outputs": [],
   "source": [
    "mean_contributions_treatment1 = df_treatment1.groupby('Round')['Contribution'].mean()\n",
    "mean_contributions_treatment2 = df_treatment2.groupby('Round')['Contribution'].mean()"
   ]
  },
  {
   "cell_type": "markdown",
   "id": "c1dee2b3",
   "metadata": {},
   "source": [
    "Next, we can create a new column in the DataFrame indicating whether each participant's contribution in a given round was below or above the mean for that round:"
   ]
  },
  {
   "cell_type": "code",
   "execution_count": 12,
   "id": "468a53ec",
   "metadata": {
    "collapsed": true
   },
   "outputs": [
    {
     "name": "stderr",
     "output_type": "stream",
     "text": [
      "/tmp/ipykernel_53896/4048241006.py:1: SettingWithCopyWarning: \n",
      "A value is trying to be set on a copy of a slice from a DataFrame.\n",
      "Try using .loc[row_indexer,col_indexer] = value instead\n",
      "\n",
      "See the caveats in the documentation: https://pandas.pydata.org/pandas-docs/stable/user_guide/indexing.html#returning-a-view-versus-a-copy\n",
      "  df_treatment1['Contribution Mean Comparison'] = df_treatment1.apply(lambda x: 'Below Mean' if x['Contribution'] < mean_contributions_treatment1[x['Round']] else 'Above Mean', axis=1)\n",
      "/tmp/ipykernel_53896/4048241006.py:3: SettingWithCopyWarning: \n",
      "A value is trying to be set on a copy of a slice from a DataFrame.\n",
      "Try using .loc[row_indexer,col_indexer] = value instead\n",
      "\n",
      "See the caveats in the documentation: https://pandas.pydata.org/pandas-docs/stable/user_guide/indexing.html#returning-a-view-versus-a-copy\n",
      "  df_treatment2['Contribution Mean Comparison'] = df_treatment2.apply(lambda x: 'Below Mean' if x['Contribution'] < mean_contributions_treatment2[x['Round']] else 'Above Mean', axis=1)\n"
     ]
    }
   ],
   "source": [
    "df_treatment1['Contribution Mean Comparison'] = df_treatment1.apply(lambda x: 'Below Mean' if x['Contribution'] < mean_contributions_treatment1[x['Round']] else 'Above Mean', axis=1)\n",
    "\n",
    "df_treatment2['Contribution Mean Comparison'] = df_treatment2.apply(lambda x: 'Below Mean' if x['Contribution'] < mean_contributions_treatment2[x['Round']] else 'Above Mean', axis=1)"
   ]
  },
  {
   "cell_type": "markdown",
   "id": "ba853bd0",
   "metadata": {},
   "source": [
    "Then, we can group the DataFrame by the \"Contribution Mean Comparison\" column and calculate the average punishment received by each group:"
   ]
  },
  {
   "cell_type": "code",
   "execution_count": 13,
   "id": "fe122f8b",
   "metadata": {},
   "outputs": [],
   "source": [
    "punishment_by_mean_comparison_treatment1 = df_treatment1.groupby('Contribution Mean Comparison')['Punishment Received'].mean()\n",
    "punishment_by_mean_comparison_treatment2 = df_treatment2.groupby('Contribution Mean Comparison')['Punishment Received'].mean()"
   ]
  },
  {
   "cell_type": "markdown",
   "id": "be82bc0d",
   "metadata": {},
   "source": [
    "Finally, we can plot a bar chart to compare the punishment received by those who contributed less than the mean with those who contributed more than the mean for both treatments:"
   ]
  },
  {
   "cell_type": "code",
   "execution_count": 14,
   "id": "27dfc7d6",
   "metadata": {
    "scrolled": true
   },
   "outputs": [
    {
     "data": {
      "image/png": "[encoded data removed]",
      "text/plain": [
       "<Figure size 864x360 with 1 Axes>"
      ]
     },
     "metadata": {
      "needs_background": "light"
     },
     "output_type": "display_data"
    }
   ],
   "source": [
    "plt.figure(figsize=(12,5))\n",
    "plt.bar(['Treatment 1 - Below Mean', 'Treatment 1 - Above Mean'], punishment_by_mean_comparison_treatment1.values, label='Treatment 1',color = \"#87B6A7\")\n",
    "plt.bar(['Treatment 2 - Below Mean', 'Treatment 2 - Above Mean'], punishment_by_mean_comparison_treatment2.values, label='Treatment 2' , color = \"#A6A57A\")\n",
    "plt.legend()\n",
    "plt.title('Average Punishment Received by Contribution Level')\n",
    "plt.ylabel('Average Punishment Received')\n",
    "plt.show()"
   ]
  },
  {
   "cell_type": "markdown",
   "id": "4e96408f",
   "metadata": {},
   "source": [
    "Analysing the bars,  it seems that people who contributed less than the mean of the group were punished more in Treatment 2 (1.55) compared to those who contributed more than the mean (6.2). In Treatment 1, people who contributed less than the mean (0.53) were also punished more compared to those who contributed more than the mean (1.19). Therefore, there seems to be a norm for contributions in both treatments, where those who contribute less than the mean are punished more."
   ]
  },
  {
   "cell_type": "markdown",
   "id": "1b9730d0",
   "metadata": {},
   "source": [
    "## 4) What was the reaction of people who were punished? I.e., in the round following a punishment did people increase or decrease their contribution? "
   ]
  },
  {
   "cell_type": "markdown",
   "id": "f56f5d11",
   "metadata": {},
   "source": [
    "We can look at the average contribution of those who were punished in the current round and compare it to their average contribution in the next round."
   ]
  },
  {
   "cell_type": "code",
   "execution_count": 15,
   "id": "201e6cef",
   "metadata": {},
   "outputs": [
    {
     "data": {
      "image/png": "[encoded data removed]",
      "text/plain": [
       "<Figure size 720x288 with 1 Axes>"
      ]
     },
     "metadata": {
      "needs_background": "light"
     },
     "output_type": "display_data"
    }
   ],
   "source": [
    "# Filter the data to only include rounds where punishment was received\n",
    "punishment_rounds = df[df['Punishment Received'] > 0]\n",
    "\n",
    "# Calculate the average contribution for those who were punished in the current round\n",
    "current_round_avg = punishment_rounds.groupby('Round')['Contribution'].mean()\n",
    "\n",
    "# Shift the index by 1 to get the next round\n",
    "next_round_avg = current_round_avg.shift(-1)\n",
    "\n",
    "# Calculate the difference in average contribution between the current and next round\n",
    "diff = next_round_avg - current_round_avg\n",
    "\n",
    "# Plot the difference in average contribution\n",
    "plt.figure(figsize=(10,4))\n",
    "plt.plot(diff)\n",
    "plt.title('Difference in Average Contribution for Punished Players')\n",
    "plt.hlines(y=0, xmin=11, xmax=20, linewidth=1, color='r')\n",
    "plt.xlabel('Round')\n",
    "plt.ylabel('Difference in Average Contribution')\n",
    "plt.show()"
   ]
  },
  {
   "cell_type": "markdown",
   "id": "d226e46e",
   "metadata": {},
   "source": [
    "If the difference in average contribution is positive, it means that players increased their contribution in the round following a punishment. If it's negative, it means that players decreased their contribution. If it's close to zero, it means that there was no significant change in contribution."
   ]
  },
  {
   "cell_type": "markdown",
   "id": "cb102f44",
   "metadata": {},
   "source": [
    "## 5) Classify people into two groups: Punishers and non-punishers. (Use your own classification. ) Were the payoffs of those who you classified as punishers greater or smaller than those who were not classified that way taking into account their cost of punishment?"
   ]
  },
  {
   "cell_type": "markdown",
   "id": "6887a64f",
   "metadata": {},
   "source": [
    "To classify people into punishers and non-punishers, we can use the column \"Punishment Received\". If the value in this column is greater than 0, then we can classify the person as a punisher, otherwise, we can classify them as a non-punisher."
   ]
  },
  {
   "cell_type": "code",
   "execution_count": 16,
   "id": "cd4b08f0",
   "metadata": {},
   "outputs": [
    {
     "name": "stdout",
     "output_type": "stream",
     "text": [
      "Average payoff for punishers: 1.36\n",
      "Average payoff for non-punishers: 3.56\n"
     ]
    }
   ],
   "source": [
    "# Create a new column to indicate if a player is a punisher or not\n",
    "df['Punisher'] = df['Punishment Received'] > 0\n",
    "\n",
    "# Calculate the payoffs for punishers and non-punishers\n",
    "punisher_payoff = (df[df['Punisher']]['Earnings'].sum() - df[df['Punisher']]['Cost'].sum()) / len(df[df['Punisher']])\n",
    "non_punisher_payoff = (df[~df['Punisher']]['Earnings'].sum() - df[~df['Punisher']]['Cost'].sum()) / len(df[~df['Punisher']])\n",
    "\n",
    "# Print the results\n",
    "print('Average payoff for punishers:', round(punisher_payoff, 2))\n",
    "print('Average payoff for non-punishers:', round(non_punisher_payoff, 2))"
   ]
  },
  {
   "cell_type": "code",
   "execution_count": 17,
   "id": "b83ee4cd",
   "metadata": {},
   "outputs": [
    {
     "data": {
      "image/png": "[encoded data removed]",
      "text/plain": [
       "<Figure size 864x288 with 1 Axes>"
      ]
     },
     "metadata": {
      "needs_background": "light"
     },
     "output_type": "display_data"
    }
   ],
   "source": [
    "plt.figure(figsize=(12,4))\n",
    "plt.bar([\"Punisher\"],[punisher_payoff],color=\"#283D3B\")\n",
    "plt.bar([\"Non Punisher\"],[non_punisher_payoff],color=\"#197278\")\n",
    "plt.title('Average Payoff for Punished Players & Non Punished Players')\n",
    "plt.ylabel('Payoff')\n",
    "plt.show()"
   ]
  },
  {
   "cell_type": "markdown",
   "id": "e1d468c5",
   "metadata": {},
   "source": [
    "The average payoff for punishers is less than the average payoff for non-punishers, then we can conclude that the payoffs of non-punishers were greater than those who were punished. This tells that punishment did not seems effective for the players' contribution in the experiment."
   ]
  },
  {
   "cell_type": "markdown",
   "id": "85b68f7f",
   "metadata": {},
   "source": [
    "`THE END`"
   ]
  }
 ],
 "metadata": {
  "kernelspec": {
   "display_name": "Python 3 (ipykernel)",
   "language": "python",
   "name": "python3"
  },
  "language_info": {
   "codemirror_mode": {
    "name": "ipython",
    "version": 3
   },
   "file_extension": ".py",
   "mimetype": "text/x-python",
   "name": "python",
   "nbconvert_exporter": "python",
   "pygments_lexer": "ipython3",
   "version": "3.8.10"
  }
 },
 "nbformat": 4,
 "nbformat_minor": 5
}
