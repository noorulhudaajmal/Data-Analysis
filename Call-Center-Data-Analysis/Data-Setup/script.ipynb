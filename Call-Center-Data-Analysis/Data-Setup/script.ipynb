{
 "cells": [
  {
   "cell_type": "code",
   "execution_count": 1,
   "id": "68f56305",
   "metadata": {},
   "outputs": [],
   "source": [
    "import pandas as pd\n",
    "import datetime"
   ]
  },
  {
   "cell_type": "code",
   "execution_count": 2,
   "id": "c0fbe83e",
   "metadata": {},
   "outputs": [],
   "source": [
    "def month_name(d):\n",
    "    if d==1 : return \"January\"\n",
    "    elif d==2 : return \"February\"\n",
    "    if d==3 : return \"March\"\n",
    "    elif d==4 : return \"April\"\n",
    "    if d==5 : return \"May\"\n",
    "    elif d==6 : return \"June\"\n",
    "    if d==7 : return \"July\"\n",
    "    elif d==8 : return \"August\"\n",
    "    if d==9 : return \"September\"\n",
    "    elif d==10 : return \"October\"\n",
    "    if d==11 : return \"November\"\n",
    "    elif d==12 : return \"December\"\n",
    "    else : return \"None\""
   ]
  },
  {
   "cell_type": "code",
   "execution_count": 3,
   "id": "35b138e0",
   "metadata": {},
   "outputs": [],
   "source": [
    "files_data = []"
   ]
  },
  {
   "cell_type": "code",
   "execution_count": 4,
   "id": "88aaf236",
   "metadata": {
    "collapsed": true
   },
   "outputs": [
    {
     "name": "stdout",
     "output_type": "stream",
     "text": [
      "Reading Calls_for_Service_2021.csv.....\n",
      "Reading Calls_for_Service_2022.csv.....\n"
     ]
    }
   ],
   "source": [
    "for i in range(11,23):\n",
    "    file_name = \"Calls_for_Service_20{}.csv\".format(i)\n",
    "    print(\"Reading {}.....\".format(file_name))\n",
    "    file = pd.read_csv(file_name)\n",
    "    df = file[['TypeText','TimeCreate']]\n",
    "    files_data.append(df)"
   ]
  },
  {
   "cell_type": "code",
   "execution_count": 12,
   "id": "ba1fde6b",
   "metadata": {
    "scrolled": true
   },
   "outputs": [],
   "source": [
    "collective_data = pd.concat(files_data)"
   ]
  },
  {
   "cell_type": "code",
   "execution_count": 14,
   "id": "176fbdde",
   "metadata": {},
   "outputs": [],
   "source": [
    "collective_data[\"Date\"] = pd.to_datetime(collective_data.TimeCreate)"
   ]
  },
  {
   "cell_type": "code",
   "execution_count": 16,
   "id": "012ea110",
   "metadata": {},
   "outputs": [],
   "source": [
    "collective_data[\"Month\"] = collective_data.Date.apply(lambda x:x.month).apply(month_name)\n",
    "collective_data[\"Year\"] = collective_data.Date.apply(lambda x:x.year)\n",
    "collective_data.drop([\"TimeCreate\",\"Date\"],axis=1,inplace=True)"
   ]
  },
  {
   "cell_type": "code",
   "execution_count": null,
   "id": "1386e1e8",
   "metadata": {},
   "outputs": [],
   "source": [
    "collective_data.to_csv(\"Calls_Data.csv\",index=False)"
   ]
  },
  {
   "cell_type": "code",
   "execution_count": null,
   "id": "5e665f5d",
   "metadata": {},
   "outputs": [],
   "source": []
  }
 ],
 "metadata": {
  "kernelspec": {
   "display_name": "Python 3 (ipykernel)",
   "language": "python",
   "name": "python3"
  },
  "language_info": {
   "codemirror_mode": {
    "name": "ipython",
    "version": 3
   },
   "file_extension": ".py",
   "mimetype": "text/x-python",
   "name": "python",
   "nbconvert_exporter": "python",
   "pygments_lexer": "ipython3",
   "version": "3.8.10"
  }
 },
 "nbformat": 4,
 "nbformat_minor": 5
}
